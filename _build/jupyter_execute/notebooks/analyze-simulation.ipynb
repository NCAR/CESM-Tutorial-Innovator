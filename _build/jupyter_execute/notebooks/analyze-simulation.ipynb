{
 "cells": [
  {
   "cell_type": "markdown",
   "id": "2ed06c5f-1e9c-4027-9c68-1cc82345cc2a",
   "metadata": {},
   "source": [
    "# Analyze simulation\n"
   ]
  },
  {
   "cell_type": "markdown",
   "id": "bca8b754-c9f4-4b64-b1aa-7b0a07053e02",
   "metadata": {},
   "source": [
    "bers array.  Note that you can only have a maximum of 9 member"
   ]
  }
 ],
 "metadata": {
  "kernelspec": {
   "display_name": "Python 3 (ipykernel)",
   "language": "python",
   "name": "python3"
  },
  "language_info": {
   "codemirror_mode": {
    "name": "ipython",
    "version": 3
   },
   "file_extension": ".py",
   "mimetype": "text/x-python",
   "name": "python",
   "nbconvert_exporter": "python",
   "pygments_lexer": "ipython3",
   "version": "3.9.12"
  }
 },
 "nbformat": 4,
 "nbformat_minor": 5
}