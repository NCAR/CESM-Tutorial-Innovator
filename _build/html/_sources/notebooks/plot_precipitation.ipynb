{
 "cells": [
  {
   "cell_type": "markdown",
   "id": "2ed06c5f-1e9c-4027-9c68-1cc82345cc2a",
   "metadata": {},
   "source": [
    "# Plot Precipitation\n",
    "\n",
    "<h1>Winter (Dec-Jan-Feb) averaged precipitation in the 50 member CESM2 large ensemble</h1>\n",
    "\n",
    "<h2>In this notebook you'll read in data from 50 members of the CESM2 large ensemble and explore the climate change response and the uncertainty due to internal variability in the winter means of precipitation</h2>"
   ]
  },
  {
   "cell_type": "markdown",
   "id": "557538c4-8946-4914-8000-3081d9a24c27",
   "metadata": {},
   "source": [
    "<h3><font color='red'>Cell 1</font></h3>"
   ]
  },
  {
   "cell_type": "code",
   "execution_count": null,
   "id": "454b9fc9-03ce-449a-9425-07dfdf38246e",
   "metadata": {},
   "outputs": [],
   "source": [
    "# Execute this cell to load the functions necessary for the computations\n",
    "from functions import *\n",
    "import xarray as xr\n",
    "import matplotlib.pyplot as plt\n",
    "from math import nan\n",
    "import warnings\n",
    "warnings.filterwarnings('ignore')"
   ]
  },
  {
   "cell_type": "markdown",
   "id": "4809db7f-3946-4d85-9e9f-719f1258ccfe",
   "metadata": {},
   "source": [
    "<h3>Execute the cell below to read in the data</h3>"
   ]
  },
  {
   "cell_type": "markdown",
   "id": "09ab50d6-bf1a-44d7-ab29-2aaeb6d01393",
   "metadata": {},
   "source": [
    "<h3><font color='red'>Cell 2</font></h3>"
   ]
  },
  {
   "cell_type": "code",
   "execution_count": null,
   "id": "2cb64276-4999-42c1-a00d-81c8814f2846",
   "metadata": {},
   "outputs": [],
   "source": [
    "# Model ensemble\n",
    "pr = xr.open_dataset(\"/scratch/data/DATA4LENS2/output_lens2_djf/PR/PR_djf_LENS2_second50.nc\")\n",
    "pr['time'] = pr.time.dt.year\n",
    "# Observations\n",
    "obs = xr.open_dataset(\"/scratch/data/DATA4LENS2/output_obs/GPCC_precip.nc\")\n",
    "obs['time'] = obs.time.dt.year"
   ]
  },
  {
   "cell_type": "markdown",
   "id": "10991975-f1a2-42f0-b165-19c473f830af",
   "metadata": {},
   "source": [
    "<h3>We'll look again at the projected change of the average of 10 winters and compare relative to the 10 winters from 1980-1989.  Feel free to change start_year_of_decade to a different value to explore the model's forced climate change response (you won't see any observations of the future)</h3>"
   ]
  },
  {
   "cell_type": "markdown",
   "id": "3246121f-d6c2-455a-9190-128850d259ea",
   "metadata": {},
   "source": [
    "<h3><font color='red'>Cell 3</font></h3>"
   ]
  },
  {
   "cell_type": "code",
   "execution_count": null,
   "id": "a8779459-9bd9-4cd7-80bf-0ddb772ec438",
   "metadata": {},
   "outputs": [],
   "source": [
    "start_year_of_decade = 2080\n",
    "print(\"You're now going to look at the decade from \"+str(start_year_of_decade)+\" to \"+str(start_year_of_decade+9))\n",
    "\n",
    "fig = plt.figure(figsize=(16,16))\n",
    "\n",
    "fig = plot_prmap_ensemblemean(fig, obs, pr, start_year_of_decade)"
   ]
  },
  {
   "cell_type": "markdown",
   "id": "bca8b754-c9f4-4b64-b1aa-7b0a07053e02",
   "metadata": {},
   "source": [
    "### Here you can plot the individual members from the ensemble.  Feel free to modify the members that are plotted by changing the numbers in the members array.  Note that you can only have a maximum of 9 members"
   ]
  },
  {
   "cell_type": "markdown",
   "id": "4aad4a21-0d6e-4de7-9d6c-00efefe0380d",
   "metadata": {},
   "source": [
    "<h3><font color='red'>Cell 4</font></h3>"
   ]
  },
  {
   "cell_type": "code",
   "execution_count": null,
   "id": "19272297-9432-422f-bbc9-5be7cd9636d6",
   "metadata": {},
   "outputs": [],
   "source": [
    "fig = plt.figure(figsize=(16,16))\n",
    "\n",
    "members=[1,2,3,4,5,6,7,8,9]\n",
    "fig = plot_prmap_members(fig, obs, pr, start_year_of_decade, members)"
   ]
  },
  {
   "cell_type": "code",
   "execution_count": null,
   "id": "d93950cf-66b6-459c-b775-2b71b063d298",
   "metadata": {},
   "outputs": [],
   "source": []
  }
 ],
 "metadata": {
  "kernelspec": {
   "display_name": "Python 3 (ipykernel)",
   "language": "python",
   "name": "python3"
  },
  "language_info": {
   "codemirror_mode": {
    "name": "ipython",
    "version": 3
   },
   "file_extension": ".py",
   "mimetype": "text/x-python",
   "name": "python",
   "nbconvert_exporter": "python",
   "pygments_lexer": "ipython3",
   "version": "3.9.12"
  }
 },
 "nbformat": 4,
 "nbformat_minor": 5
}
