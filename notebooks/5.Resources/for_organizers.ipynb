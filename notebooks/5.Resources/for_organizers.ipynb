{
 "cells": [
  {
   "cell_type": "markdown",
   "metadata": {},
   "source": [
    "# Resources for organizers\n",
    "This section contains resources for the organizers"
   ]
  },
  {
   "cell_type": "markdown",
   "metadata": {},
   "source": [
    "Our [google folder](https://drive.google.com/drive/folders/1B4zGYBHvmVfgIS2TpEbbLcc42sJcyg_i?usp=sharing) with our notes, materials/presentations and agenda. Feel free to add any materials/presentations in the folder. \n",
    "\n",
    "**Access is restricted to organizers**. "
   ]
  },
  {
   "cell_type": "code",
   "execution_count": null,
   "metadata": {},
   "outputs": [],
   "source": []
  }
 ],
 "metadata": {
  "kernelspec": {
   "display_name": "Bash",
   "language": "bash",
   "name": "bash"
  },
  "language_info": {
   "codemirror_mode": "shell",
   "file_extension": ".sh",
   "mimetype": "text/x-sh",
   "name": "bash"
  }
 },
 "nbformat": 4,
 "nbformat_minor": 4
}
