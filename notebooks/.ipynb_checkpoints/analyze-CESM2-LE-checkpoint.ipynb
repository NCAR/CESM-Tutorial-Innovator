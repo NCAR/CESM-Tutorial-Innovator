{
 "cells": [
  {
   "cell_type": "markdown",
   "id": "bca8b754-c9f4-4b64-b1aa-7b0a07053e02",
   "metadata": {},
   "source": [
    "# Analyze CESM2 LENS\n",
    "\n",
    "This contains the notebooks from Isla to look at the CESM2 LE. \n"
   ]
  }
 ],
 "metadata": {
  "kernelspec": {
   "display_name": "Python 3 (ipykernel)",
   "language": "python",
   "name": "python3"
  },
  "language_info": {
   "codemirror_mode": {
    "name": "ipython",
    "version": 3
   },
   "file_extension": ".py",
   "mimetype": "text/x-python",
   "name": "python",
   "nbconvert_exporter": "python",
   "pygments_lexer": "ipython3",
   "version": "3.9.12"
  }
 },
 "nbformat": 4,
 "nbformat_minor": 5
}
