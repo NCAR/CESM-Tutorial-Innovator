{
 "cells": [
  {
   "cell_type": "markdown",
   "metadata": {},
   "source": [
    "___\n",
    "![young_innovator_logo](../images/young_innovator_logo.png)\n",
    "___"
   ]
  },
  {
   "cell_type": "markdown",
   "metadata": {
    "tags": []
   },
   "source": [
    "# Climate Modeling Workshop \n",
    "\n",
    "## When/Where:\n",
    "Thursday August 3, 2023 (9:00-2:00 pm MT) FL1-2198-EOL-Atrium \n",
    "\n",
    "## Planning committee: \n",
    "Melissa Moulton, Cecile Hannay, Isla Simpson, Brian Dobbins & Alexandra Ramos\n",
    "\n",
    "## Purpose - \n",
    "What is a climate model? What is it like to run a climate model using high performance computing resources? How are figures generated from the model output and how are the results interpreted? What is “forced” climate variability versus “internal” climate variability? What are the limitations and sources of uncertainty in climate models? If you’ve been asking yourself any of these questions, this is a great hands-on opportunity to demystify climate modeling. If you already know some about climate models, this is an opportunity to dig a little deeper. The workshop will include brief lectures, hands-on practice with the Community Earth System Model (CESM) Large Ensemble (LENS2) via Jupyter notebooks on the cloud, and Q&A with climate, weather, and water scientists. No prior modeling or scientific computing/coding experience is required. Please bring a laptop with access to the internet and a web browser.\n",
    "\n",
    "## Agenda \n",
    "All times in MDT (GMT-6)\n",
    "\n",
    "- 9:00 - 9:10 am Welcome and Overview \n",
    "- 9:10 - 12:00 pm Workshop \n",
    "- 12:00 - 1:00 pm Lunch \n",
    "- 1:00 - 2:00 pm Workshop\n",
    "\n"
   ]
  }
 ],
 "metadata": {
  "kernelspec": {
   "display_name": "Bash",
   "language": "bash",
   "name": "bash"
  },
  "language_info": {
   "codemirror_mode": "shell",
   "file_extension": ".sh",
   "mimetype": "text/x-sh",
   "name": "bash"
  }
 },
 "nbformat": 4,
 "nbformat_minor": 4
}
