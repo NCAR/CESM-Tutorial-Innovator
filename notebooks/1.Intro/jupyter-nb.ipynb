{
 "cells": [
  {
   "cell_type": "markdown",
   "metadata": {
    "tags": []
   },
   "source": [
    "# Jupyter Notebooks\n",
    "\n",
    "This section contains basic information about running `Jupyter Notebooks`. \n",
    "\n",
    "A `Notebook` is composed of cells. In this tutorial, you will often hear `run a cell`. \n",
    "\n",
    "To run a cell in a notebook. **Click on the cell and press: `Shift+return`**   \n"
   ]
  },
  {
   "cell_type": "markdown",
   "metadata": {},
   "source": [
    "![Running a cell](../../images/running_cell.png)\n",
    "<p style=\"text-align: center;\"> Figure: Running a cell </p>"
   ]
  },
  {
   "cell_type": "markdown",
   "metadata": {},
   "source": [
    "Let’s practice running a cell.\n",
    "\n",
    "Go to exercise 0 in your notebook and practice running a cell. \n",
    "\n",
    "Run the same cell several times. What happens? \n",
    "\n"
   ]
  },
  {
   "cell_type": "markdown",
   "metadata": {},
   "source": [
    "## Exercise 0\n",
    "\n",
    "Practice running the cell below. It means **click on the cell** and then., press **Shift-return**"
   ]
  },
  {
   "cell_type": "code",
   "execution_count": 6,
   "metadata": {},
   "outputs": [
    {
     "name": "stdout",
     "output_type": "stream",
     "text": [
      "Wait for 5 seconds\n"
     ]
    }
   ],
   "source": [
    "echo 'Wait for 5 seconds'\n",
    "sleep 5"
   ]
  },
  {
   "cell_type": "code",
   "execution_count": null,
   "metadata": {},
   "outputs": [],
   "source": []
  }
 ],
 "metadata": {
  "kernelspec": {
   "display_name": "Bash",
   "language": "bash",
   "name": "bash"
  },
  "language_info": {
   "codemirror_mode": "shell",
   "file_extension": ".sh",
   "mimetype": "text/x-sh",
   "name": "bash"
  }
 },
 "nbformat": 4,
 "nbformat_minor": 4
}
