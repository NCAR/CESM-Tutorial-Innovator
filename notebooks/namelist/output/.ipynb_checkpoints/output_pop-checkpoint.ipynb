{
 "cells": [
  {
   "cell_type": "markdown",
   "id": "f406f992-92bd-4b17-9bd3-b99c5c8abaf3",
   "metadata": {},
   "source": [
    "# Customize POP output\n",
    "\n",
    "The POP output can changed with the namelist variables\n",
    "\n",
    "- **``tavg_freq``**: frequency at which the model fields are written\n",
    "- **``tavg_freq_opt``**: units of time for 'tavg_freq’ ('nmonth’, 'nhour’, 'once’,…)\n",
    "- **``tavg_file_freq``**:frequency at which the model files are written\n",
    "- **``tavg_file_freq_opt``**: units of time for 'tavg_file_freq’ ('nmonth’, 'nhour’, …)\n",
    "\n",
    "\n",
    "For instance, to output a timeseries of daily averages bundled into a monthly file add the lines in ``user_nl_pop2``: \n",
    "```  tavg_freq_opt = 'nday' \n",
    "     tavg_freq = 1 \n",
    "     tavg_file_freq_opt = 'nmonth' \n",
    "     tavg_file_freq = 1 \n",
    "```\n",
    "\n",
    "See: https://www.cesm.ucar.edu/models/cesm2/settings/current/pop2_nml.html\n",
    "\n",
    "\n",
    "CAUTION: Changing tavg_nml variables is non standard \n",
    "Do not modify these variables directly in ``user_nl_pop2``\n",
    "Use the **workaround** explained in ``user_nl_pop2``\n"
   ]
  },
  {
   "cell_type": "code",
   "execution_count": null,
   "id": "6857dadc-8cbd-4a2e-af21-14b0be4600ee",
   "metadata": {},
   "outputs": [],
   "source": []
  }
 ],
 "metadata": {
  "kernelspec": {
   "display_name": "Python 3 (ipykernel)",
   "language": "python",
   "name": "python3"
  },
  "language_info": {
   "codemirror_mode": {
    "name": "ipython",
    "version": 3
   },
   "file_extension": ".py",
   "mimetype": "text/x-python",
   "name": "python",
   "nbconvert_exporter": "python",
   "pygments_lexer": "ipython3",
   "version": "3.9.12"
  }
 },
 "nbformat": 4,
 "nbformat_minor": 5
}
