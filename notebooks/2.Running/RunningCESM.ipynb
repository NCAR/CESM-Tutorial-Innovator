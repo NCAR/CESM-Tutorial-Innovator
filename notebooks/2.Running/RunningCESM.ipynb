{
 "cells": [
  {
   "cell_type": "markdown",
   "metadata": {},
   "source": [
    "# Running CESM \n",
    "This is a brief introduction to running the climate model CESM. This will walk you through the fundamentals of running CESM. <br>\n",
    "In this notebook , we will run a simulation. Later, we will look at the data you produced. \n"
   ]
  },
  {
   "cell_type": "markdown",
   "metadata": {},
   "source": [
    "____\n",
    "## 0. Prerequisite: running a cell. \n",
    "\n",
    "In this tutorial, you will often hear often the expression **run a cell**. In the context of a notebook, **running a cell** refers to executing the code written within a specific cell in the notebook.\n",
    "    \n",
    "**Exercise 0**\n",
    "\n",
    "Practice running the cell below. It means **click on the cell** and then., press **`Shift-return`**. <br> \n",
    "Run the same cell several times. What happens? \n",
    "    "
   ]
  },
  {
   "cell_type": "code",
   "execution_count": 54,
   "metadata": {},
   "outputs": [
    {
     "name": "stdout",
     "output_type": "stream",
     "text": [
      "Wait for 5 seconds\n",
      "/home/hannay\n"
     ]
    }
   ],
   "source": [
    "echo 'Wait for 5 seconds'\n",
    "sleep 5"
   ]
  },
  {
   "cell_type": "markdown",
   "metadata": {
    "tags": []
   },
   "source": [
    "___\n",
    "## 1. Creating a CESM case\n",
    "\n",
    "CESM experiments start with creating a **case** with a specific configuration of CESM (**compset**) and at a particular **resolution**. \n",
    "\n",
    "For instance, here is the command to create a CESM case called `case0` with <br>\n",
    "- compset:    `B1850`\n",
    "- resolution: `f09_g17`\n",
    "\n",
    "![create_newcase](../../images/create_newcase.png)\n",
    "<p style=\"text-align: center;\"> Figure: Syntax of create_newcase</p>"
   ]
  },
  {
   "cell_type": "markdown",
   "metadata": {},
   "source": [
    "\n"
   ]
  },
  {
   "cell_type": "markdown",
   "metadata": {},
   "source": [
    "`B1850` is the default version for pre-industrial coupled simulation with CESM2. For the current tutorial, we are using a cheaper version of the model `B1850C4-Tutorial` instead of `B1850`.  \n",
    "\n",
    "**Exercise 1**\n",
    "\n",
    "Customize your casename (each student picks a different number) and run the cell to issue the command."
   ]
  },
  {
   "cell_type": "code",
   "execution_count": 55,
   "metadata": {
    "tags": []
   },
   "outputs": [
    {
     "name": "stdout",
     "output_type": "stream",
     "text": [
      "Compset longname is 1850_CAM40_CLM50%BGC-CROP_CICE_POP2%ECO_MOSART_CISM2%NOEVOLVE_WW3\n",
      "Compset specification file is /opt/ncar/cesm/cime/../cime_config/config_compsets.xml\n",
      "Compset forcing is 1850\n",
      "ATM component is CAM cam4 physics:\n",
      "LND component is clm5.0:BGC (vert. resol. CN and methane) with prognostic crop:\n",
      "ICE component is Sea ICE (cice) model version 5\n",
      "OCN component is POP2 Ecosystem\n",
      "ROF component is MOSART: MOdel for Scale Adaptive River Transport\n",
      "GLC component is cism2 (default, higher-order, can run in parallel):cism ice evolution turned off (this is the standard configuration unless you're explicitly interested in ice evolution):\n",
      "WAV component is Wave Watch\n",
      "ESP component is \n",
      "Pes     specification file is /opt/ncar/cesm/cime/../cime_config/config_pes.xml\n",
      "Compset specific settings: name is RUN_STARTDATE and value is 0001-01-01\n",
      "Compset specific settings: name is CPL_USER_MODS and value is $SRCROOT/cime_config/usermods_dirs/B1850C4-Tutorial\n",
      "Could not find machine match for 'ip-10-0-0-28.us-east-2.compute.internal' or 'ip-10-0-0-28'\n",
      "Machine is aws-hpc6a\n",
      "Pes setting: grid match    is a%0.9x1.25.+l%0.9x1.25.+oi%gx1 \n",
      "Pes setting: machine match is aws-hpc6a \n",
      "Pes setting: grid          is a%0.9x1.25_l%0.9x1.25_oi%gx1v7_r%r05_g%gland4_w%ww3a_m%gx1v7 \n",
      "Pes setting: compset       is 1850_CAM40_CLM50%BGC-CROP_CICE_POP2%ECO_MOSART_CISM2%NOEVOLVE_WW3 \n",
      "Pes setting: tasks       is {'NTASKS_ATM': -3, 'NTASKS_LND': -3, 'NTASKS_ROF': -3, 'NTASKS_ICE': -3, 'NTASKS_OCN': -3, 'NTASKS_GLC': -3, 'NTASKS_WAV': 36, 'NTASKS_CPL': -3} \n",
      "Pes setting: threads     is {'NTHRDS_ATM': 1, 'NTHRDS_LND': 1, 'NTHRDS_ROF': 1, 'NTHRDS_ICE': 1, 'NTHRDS_OCN': 1, 'NTHRDS_GLC': 1, 'NTHRDS_WAV': 1, 'NTHRDS_CPL': 1} \n",
      "Pes setting: rootpe      is {'ROOTPE_ATM': 0, 'ROOTPE_LND': 0, 'ROOTPE_ROF': 0, 'ROOTPE_ICE': 0, 'ROOTPE_OCN': 0, 'ROOTPE_GLC': 0, 'ROOTPE_WAV': 0, 'ROOTPE_CPL': 0} \n",
      "Pes setting: pstrid      is {} \n",
      "Pes other settings: {}\n",
      "Pes comments: none\n",
      " Compset is: 1850_CAM40_CLM50%BGC-CROP_CICE_POP2%ECO_MOSART_CISM2%NOEVOLVE_WW3 \n",
      " Grid is: a%0.9x1.25_l%0.9x1.25_oi%gx1v7_r%r05_g%gland4_w%ww3a_m%gx1v7 \n",
      " Components in compset are: ['cam', 'clm', 'cice', 'pop', 'mosart', 'cism', 'ww3', 'sesp', 'drv', 'dart'] \n",
      "No project info available\n",
      "No charge_account info available, using value from PROJECT\n",
      "No project info available\n",
      "WARNING: No cesm Model version found.\n",
      "Batch_system_type is slurm\n",
      "job is case.run USER_REQUESTED_WALLTIME None USER_REQUESTED_QUEUE None WALLTIME_FORMAT %H:%M:%S\n",
      "job is case.st_archive USER_REQUESTED_WALLTIME None USER_REQUESTED_QUEUE None WALLTIME_FORMAT %H:%M:%S\n",
      " Creating Case directory /home/hannay/cases/case3\n",
      "Adding user mods directory /opt/ncar/cesm/cime_config/usermods_dirs/B1850C4-Tutorial\n",
      "RUN: /home/hannay/cases/case3/shell_commands\n"
     ]
    }
   ],
   "source": [
    "create_newcase --case ~/cases/case3 --compset B1850C4-Tutorial --res f09_g17 --run-unsupported"
   ]
  },
  {
   "cell_type": "markdown",
   "metadata": {},
   "source": [
    "\n",
    "Great!  You've created the default version of your case. Let's wait for everyone before going to step 2.\n",
    "<br><br>\n",
    "\n",
    "***"
   ]
  },
  {
   "cell_type": "markdown",
   "metadata": {
    "tags": []
   },
   "source": [
    "## 2. Setting up the case\n",
    "\n",
    "The next step in running CESM is to **setup** the case. This is done by going into the case you just created and running `./case.setup`.   \n",
    "\n",
    "The command `./case.setup` sets up files that control the model's behavior.  \n"
   ]
  },
  {
   "cell_type": "markdown",
   "metadata": {
    "tags": []
   },
   "source": [
    "**Exercise 2** \n",
    "\n",
    "Customize the cell below with your own case name. Then run the cell. This sets up the case. "
   ]
  },
  {
   "cell_type": "code",
   "execution_count": 56,
   "metadata": {
    "tags": []
   },
   "outputs": [
    {
     "name": "stdout",
     "output_type": "stream",
     "text": [
      "Setting resource.RLIMIT_STACK to -1 from (-1, -1)\n",
      "/home/hannay/cases/case3/env_mach_specific.xml already exists, delete to replace\n",
      "job is case.run USER_REQUESTED_WALLTIME None USER_REQUESTED_QUEUE None WALLTIME_FORMAT %H:%M:%S\n",
      "Creating batch scripts\n",
      "Writing case.run script from input template /opt/ncar/cesm/cime/config/cesm/machines/template.case.run\n",
      "Creating file .case.run\n",
      "Writing case.st_archive script from input template /opt/ncar/cesm/cime/config/cesm/machines/template.st_archive\n",
      "Creating file case.st_archive\n",
      "Creating user_nl_xxx files for components and cpl\n",
      "Copying bld directory from /scratch/data/prebuild/B1850C4-Tutorial-Prebuild/bld/\n",
      "If an old case build already exists, might want to run 'case.build --clean' before building\n",
      "You can now run './preview_run' to get more info on how your case will be run\n"
     ]
    }
   ],
   "source": [
    "cd ~/cases/case3\n",
    "./case.setup"
   ]
  },
  {
   "cell_type": "markdown",
   "metadata": {
    "tags": []
   },
   "source": [
    "<br>Great!  You've now used the `case.setup` command to set up your case.  Let's wait for everyone before going to step 3.<br><br>\n",
    "\n",
    "***"
   ]
  },
  {
   "cell_type": "markdown",
   "metadata": {},
   "source": [
    "## 3. Compiling the case\n",
    "\n",
    "CESM is written in a language called **Fortran**. Similar to English, Fortran is human readable. The computer doesn't understand Fortran. It needs to be translated in a computer-readable code (strings of 0s and 1s).   "
   ]
  },
  {
   "cell_type": "markdown",
   "metadata": {},
   "source": [
    "Here is an example of fortran code"
   ]
  },
  {
   "cell_type": "raw",
   "metadata": {
    "tags": []
   },
   "source": [
    " type physics_tend\n",
    "\n",
    "     integer   ::   psetcols=0 ! max number of columns set- if subcols = pcols*psubcols, else = pcols\n",
    "\n",
    "     real(r8), dimension(:,:),allocatable        :: dtdt, dudt, dvdt\n",
    "     real(r8), dimension(:),  allocatable        :: flx_net\n",
    "     real(r8), dimension(:),  allocatable        :: &\n",
    "          te_tnd,  &! cumulative boundary flux of total energy\n",
    "          tw_tnd    ! cumulative boundary flux of total water\n",
    "  end type physics_tend\n"
   ]
  },
  {
   "cell_type": "markdown",
   "metadata": {
    "tags": []
   },
   "source": [
    "**Exercise 3** \n",
    "\n",
    "Run the cell below. This compiles the case. Be aware that this can take a few minutes."
   ]
  },
  {
   "cell_type": "code",
   "execution_count": 57,
   "metadata": {
    "tags": []
   },
   "outputs": [
    {
     "name": "stdout",
     "output_type": "stream",
     "text": [
      "Building case in directory /home/hannay/cases/case3\n",
      "sharedlib_only is False\n",
      "model_only is False\n",
      "Setting resource.RLIMIT_STACK to -1 from (-1, -1)\n",
      "Generating component namelists as part of build\n",
      "Creating component namelists\n",
      "   Calling /opt/ncar/cesm/components/cam//cime_config/buildnml\n",
      "     ...calling cam buildcpp to set build time options\n",
      "CAM namelist copy: file1 /home/hannay/cases/case3/Buildconf/camconf/atm_in file2 /scratch/hannay/case3/run/atm_in \n",
      "   Calling /opt/ncar/cesm/components/clm//cime_config/buildnml\n",
      "   Calling /opt/ncar/cesm/components/cice//cime_config/buildnml\n",
      "     ...buildnml calling cice buildcpp to set build time options\n",
      "   Calling /opt/ncar/cesm/components/pop//cime_config/buildnml\n",
      "     ... buildnml: calling pop buildcpp to set build time options\n",
      "   Calling /opt/ncar/cesm/components/mosart//cime_config/buildnml\n",
      "   Running /opt/ncar/cesm/components/cism//cime_config/buildnml \n",
      "   Calling /opt/ncar/cesm/components/ww3//cime_config/buildnml\n",
      "   Calling /opt/ncar/cesm/cime/src/components/stub_comps/sesp/cime_config/buildnml\n",
      "   Calling /opt/ncar/cesm/cime/src/drivers/mct/cime_config/buildnml\n",
      "Finished creating component namelists\n",
      "Building gptl with output to file /scratch/hannay/case3/bld/gptl.bldlog.230803-105859\n",
      "   Calling /opt/ncar/cesm/cime/src/build_scripts/buildlib.gptl\n",
      "Building mct with output to file /scratch/hannay/case3/bld/mct.bldlog.230803-105859\n",
      "   Calling /opt/ncar/cesm/cime/src/build_scripts/buildlib.mct\n",
      "Building pio with output to file /scratch/hannay/case3/bld/pio.bldlog.230803-105859\n",
      "   Calling /opt/ncar/cesm/cime/src/build_scripts/buildlib.pio\n",
      "Building csm_share with output to file /scratch/hannay/case3/bld/csm_share.bldlog.230803-105859\n",
      "   Calling /opt/ncar/cesm/cime/src/build_scripts/buildlib.csm_share\n",
      "         - Building clm4_5/clm5_0 Library \n",
      "Building lnd with output to /scratch/hannay/case3/bld/lnd.bldlog.230803-105859\n",
      "clm built in 2.833363 seconds\n",
      "Building atm with output to /scratch/hannay/case3/bld/atm.bldlog.230803-105859\n",
      "Building ice with output to /scratch/hannay/case3/bld/ice.bldlog.230803-105859\n",
      "Building ocn with output to /scratch/hannay/case3/bld/ocn.bldlog.230803-105859\n",
      "Building rof with output to /scratch/hannay/case3/bld/rof.bldlog.230803-105859\n",
      "Building glc with output to /scratch/hannay/case3/bld/glc.bldlog.230803-105859\n",
      "Building wav with output to /scratch/hannay/case3/bld/wav.bldlog.230803-105859\n",
      "Building esp with output to /scratch/hannay/case3/bld/esp.bldlog.230803-105859\n",
      "mosart built in 1.745109 seconds\n",
      "cice built in 1.901074 seconds\n",
      "pop built in 2.870715 seconds\n",
      "sesp built in 3.136370 seconds\n",
      "cam built in 4.598384 seconds\n",
      "ww built in 4.973694 seconds\n",
      "Component glc build complete with 3 warnings\n",
      "cism built in 144.575356 seconds\n",
      "Building cesm with output to /scratch/hannay/case3/bld/cesm.bldlog.230803-105859 \n",
      "Time spent not building: 6.563190 sec\n",
      "Time spent building: 161.514207 sec\n",
      "MODEL BUILD HAS FINISHED SUCCESSFULLY\n"
     ]
    }
   ],
   "source": [
    "qcmd -- ./case.build "
   ]
  },
  {
   "cell_type": "markdown",
   "metadata": {
    "tags": []
   },
   "source": [
    "<br><br>\n",
    "Again, this will take a few minutes.  You'll know this is complete when you see the line:\n",
    "\n",
    ">&nbsp;MODEL BUILD HAS FINISHED SUCCESSFULLY\n",
    "\n",
    "If you see that, fantastic!  You've built your first CESM case!  Let's wait for everyone before going to step 4.<br><br>\n",
    "\n",
    "\n",
    "***"
   ]
  },
  {
   "cell_type": "markdown",
   "metadata": {},
   "source": [
    "## 4. Customizing a CESM case\n",
    "\n",
    "**Adding some butterfly effect** ![butterfly](../../images/butterfly.png)\n",
    "\n",
    "- If we submitted the simulation now, we would all get the same results.\n",
    "- Let’s add a small perturbation to the temperature (butterfly effect) \n",
    "<br>\n",
    "\n",
    "**Example of a small perturbation** \n",
    "\n",
    "Temperature = 90F -> 90.0000000000001F"
   ]
  },
  {
   "cell_type": "markdown",
   "metadata": {
    "tags": []
   },
   "source": [
    "**Exercise 4** \n",
    "\n",
    "Run the cell below. This adds some butterfly effect (a small T temperature). <br>\n",
    "Each student adds a different butterfly effect. "
   ]
  },
  {
   "cell_type": "code",
   "execution_count": 59,
   "metadata": {},
   "outputs": [],
   "source": [
    "echo \"pertlim = 3e-13\" >> user_nl_cam"
   ]
  },
  {
   "cell_type": "markdown",
   "metadata": {
    "tags": []
   },
   "source": [
    "<br>\n",
    "Let's wait for everyone before going to step 5.<br><br>\n",
    "\n",
    "***"
   ]
  },
  {
   "cell_type": "markdown",
   "metadata": {},
   "source": [
    "## 5. Set the length of the run\n",
    "\n",
    "By default, cesm is set to produce 5-day simulations. Here, we modify the case to do a one-month simulation.\n",
    "<br>"
   ]
  },
  {
   "cell_type": "markdown",
   "metadata": {},
   "source": [
    "**Exercise 5** \n",
    "\n",
    "Run the following cell to change the length of the simulation to one month. "
   ]
  },
  {
   "cell_type": "code",
   "execution_count": 60,
   "metadata": {},
   "outputs": [],
   "source": [
    "./xmlchange STOP_OPTION=nmonths,STOP_N=1"
   ]
  },
  {
   "cell_type": "markdown",
   "metadata": {},
   "source": [
    "Run the following cell to check the length of the simulation was properly set"
   ]
  },
  {
   "cell_type": "code",
   "execution_count": 62,
   "metadata": {},
   "outputs": [
    {
     "name": "stdout",
     "output_type": "stream",
     "text": [
      "\n",
      "Results in group run_begin_stop_restart\n",
      "\tSTOP_OPTION: nmonths\n",
      "\tSTOP_N: 1\n"
     ]
    }
   ],
   "source": [
    "./xmlquery STOP_OPTION,STOP_N"
   ]
  },
  {
   "cell_type": "markdown",
   "metadata": {},
   "source": [
    "<br><br> If you see: \n",
    "> STOP_OPTION: nmonths <br>\n",
    "> STOP_N: 1 <br>\n",
    "\n",
    "Great!  You have set the case to run the model for one month.  Let's wait for everyone before going to step 6. \n",
    "<br><br>\n",
    "\n",
    "***"
   ]
  },
  {
   "cell_type": "markdown",
   "metadata": {
    "tags": []
   },
   "source": [
    "## 6. Running your case\n",
    "\n",
    "Running a case is also simple - we just issue the `case.submit` command.  This will start by checking that we have all of the necessary input data for our run, and downloading whatever is missing, and then it will perform the actual simulation - which we've configured to run for one month.\n"
   ]
  },
  {
   "cell_type": "markdown",
   "metadata": {},
   "source": [
    "**Exercise 6** \n",
    "\n",
    "Submit your simulation. "
   ]
  },
  {
   "cell_type": "code",
   "execution_count": 63,
   "metadata": {
    "tags": []
   },
   "outputs": [
    {
     "name": "stdout",
     "output_type": "stream",
     "text": [
      "Setting resource.RLIMIT_STACK to -1 from (-1, -1)\n",
      "Creating component namelists\n",
      "   Calling /opt/ncar/cesm/components/cam//cime_config/buildnml\n",
      "CAM namelist copy: file1 /home/hannay/cases/case3/Buildconf/camconf/atm_in file2 /scratch/hannay/case3/run/atm_in \n",
      "   Calling /opt/ncar/cesm/components/clm//cime_config/buildnml\n",
      "   Calling /opt/ncar/cesm/components/cice//cime_config/buildnml\n",
      "   Calling /opt/ncar/cesm/components/pop//cime_config/buildnml\n",
      "   Calling /opt/ncar/cesm/components/mosart//cime_config/buildnml\n",
      "   Running /opt/ncar/cesm/components/cism//cime_config/buildnml \n",
      "   Calling /opt/ncar/cesm/components/ww3//cime_config/buildnml\n",
      "   Calling /opt/ncar/cesm/cime/src/components/stub_comps/sesp/cime_config/buildnml\n",
      "   Calling /opt/ncar/cesm/cime/src/drivers/mct/cime_config/buildnml\n",
      "Finished creating component namelists\n",
      "Checking that inputdata is available as part of case submission\n",
      "Setting resource.RLIMIT_STACK to -1 from (-1, -1)\n",
      "Loading input file list: 'Buildconf/cam.input_data_list'\n",
      "Loading input file list: 'Buildconf/clm.input_data_list'\n",
      "Loading input file list: 'Buildconf/cice.input_data_list'\n",
      "Loading input file list: 'Buildconf/pop.input_data_list'\n",
      "Loading input file list: 'Buildconf/mosart.input_data_list'\n",
      "Loading input file list: 'Buildconf/cism.input_data_list'\n",
      "Loading input file list: 'Buildconf/ww3.input_data_list'\n",
      "Loading input file list: 'Buildconf/cpl.input_data_list'\n",
      "Creating component namelists\n",
      "Finished creating component namelists\n",
      "Check case OK\n",
      "submit_jobs case.run\n",
      "Submit job case.run\n",
      "Submitting job script sbatch --time 144:00:00 -p compute .case.run --resubmit\n",
      "Submitted job id is 128\n",
      "Submit job case.st_archive\n",
      "Submitting job script sbatch --time 0:20:00 -p compute  --dependency=afterok:128 case.st_archive --resubmit\n",
      "Submitted job id is 129\n",
      "Submitted job case.run with id 128\n",
      "Submitted job case.st_archive with id 129\n"
     ]
    }
   ],
   "source": [
    "./case.submit"
   ]
  },
  {
   "cell_type": "markdown",
   "metadata": {},
   "source": [
    "**Check the job is running** \n",
    "\n",
    "When you submit a simulation, it will be waiting in the computer until there is enough computer resources. <br> The command `squeue` allows you to make sure your simulation is in the queue or running."
   ]
  },
  {
   "cell_type": "code",
   "execution_count": 65,
   "metadata": {
    "tags": []
   },
   "outputs": [
    {
     "name": "stdout",
     "output_type": "stream",
     "text": [
      "             JOBID PARTITION     NAME     USER ST       TIME  NODES NODELIST(REASON)\n",
      "               128   compute run.case   hannay CF       0:25      3 compute-dy-build-[1-3]\n",
      "               129   compute st_archi   hannay PD       0:00      1 (Dependency)\n"
     ]
    }
   ],
   "source": [
    "squeue -u $USER"
   ]
  },
  {
   "cell_type": "markdown",
   "metadata": {},
   "source": [
    "<br><br>When this step finishes, the run will complete, then the 'archive' script will execute.  You will see a few warning messages about 'No such variable' - these are normal, and can be ignored.  The final lines should look like:\n",
    "\n",
    ">Submitted job case.run with id None<br>\n",
    "Submitted job case.st_archive with id None\n",
    "\n",
    "\n",
    "If you see those, congratulations!  You've run your first case -- there's a *lot* of text shown above, and we'll cover it in more detail in another tutorial, and more information can also be found in the [documentation](https://escomp.github.io/CESM/versions/cesm2.2/html/quickstart.html#run-the-case).<br><br>\n",
    "\n",
    "***"
   ]
  },
  {
   "cell_type": "code",
   "execution_count": null,
   "metadata": {},
   "outputs": [],
   "source": []
  }
 ],
 "metadata": {
  "kernelspec": {
   "display_name": "Bash",
   "language": "bash",
   "name": "bash"
  },
  "language_info": {
   "codemirror_mode": "shell",
   "file_extension": ".sh",
   "mimetype": "text/x-sh",
   "name": "bash"
  }
 },
 "nbformat": 4,
 "nbformat_minor": 4
}
