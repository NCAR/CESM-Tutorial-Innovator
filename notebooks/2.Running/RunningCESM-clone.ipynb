{
 "cells": [
  {
   "cell_type": "markdown",
   "metadata": {},
   "source": [
    "# Running CESM \n",
    "This is a brief introduction to running the climate model CESM. This will walk you through the fundamentals of running CESM. <br>\n",
    "In this notebook , we will run a simulation. Later, we will look at the data you produced. "
   ]
  },
  {
   "cell_type": "markdown",
   "metadata": {},
   "source": [
    "____\n",
    "## 0. Prerequisite: running a cell. \n",
    "\n",
    "In this tutorial, you will often hear often the expression **run a cell**. In the context of a notebook, **running a cell** refers to executing the code written within a specific cell in the notebook.\n",
    "    \n",
    "**Exercise 0**\n",
    "Practice running the cell below. It means **click on the cell** and then., press **`Shift-return`**. <br> \n",
    "Run the same cell several times. What happens? \n",
    "    "
   ]
  },
  {
   "cell_type": "code",
   "execution_count": null,
   "metadata": {},
   "outputs": [],
   "source": [
    "echo 'Wait for 5 seconds'\n",
    "sleep 5"
   ]
  },
  {
   "cell_type": "markdown",
   "metadata": {
    "tags": []
   },
   "source": [
    "___\n",
    "## 1. Creating a CESM case\n",
    "\n",
    "CESM experiments start with creating a **case** with a specific configuration of CESM (**compset**) and at a particular **resolution**. \n",
    "\n",
    "For instance, here is the command to create a CESM case called `case0` with <br>\n",
    "- compset:    `B1850`\n",
    "- resolution: `f09_g17`\n",
    "\n",
    "![create_newcase](../../images/create_newcase.png)\n",
    "<p style=\"text-align: center;\"> Figure: Syntax of create_newcase</p>"
   ]
  },
  {
   "cell_type": "markdown",
   "metadata": {},
   "source": [
    "\n"
   ]
  },
  {
   "cell_type": "markdown",
   "metadata": {},
   "source": [
    "Due to time constraints, we will create a new case by cloning an existing case in CESM. The command is `create_clone` and the result is somewhat similar to `create_newcase`.  \n",
    "\n",
    "*If you plan to use CESM in the future, we recommend using the `create_newcase` command until you have a good understanding of CESM.* \n",
    "\n",
    "**Exercise 1**\n",
    "\n",
    "Create a case (a simulation) using the `create_clone` command. The simulation you want to clone is located at: `/home/hannay/cases/case0`. \n",
    "\n",
    "Customize your casename (each student picks a different number) and run the cell to issue the command."
   ]
  },
  {
   "cell_type": "code",
   "execution_count": null,
   "metadata": {
    "tags": []
   },
   "outputs": [],
   "source": [
    "create_clone --case  ~/cases/case3 --clone  /home/hannay/cases/case0  --keepexe"
   ]
  },
  {
   "cell_type": "markdown",
   "metadata": {},
   "source": [
    "\n",
    "Great!  You've created the default version of your case. Let's wait for everyone before going to step 2.\n",
    "<br><br>\n",
    "\n",
    "***"
   ]
  },
  {
   "cell_type": "markdown",
   "metadata": {
    "tags": []
   },
   "source": [
    "## 2. Setting up the case\n",
    "\n",
    "The next step in running CESM is to **setup** the case. This is done by going into the case you just created and running `./case.setup`.   \n",
    "\n",
    "The command `./case.setup` sets up files that control the model's behavior.  \n"
   ]
  },
  {
   "cell_type": "markdown",
   "metadata": {
    "tags": []
   },
   "source": [
    "**Exercise 2** \n",
    "\n",
    "Customize the cell below with your own case name. Then run the cell. This sets up the case. "
   ]
  },
  {
   "cell_type": "code",
   "execution_count": null,
   "metadata": {
    "tags": []
   },
   "outputs": [],
   "source": [
    "cd ~/cases/case3\n",
    "./case.setup"
   ]
  },
  {
   "cell_type": "markdown",
   "metadata": {
    "tags": []
   },
   "source": [
    "<br>Great!  You've now used the `case.setup` command to set up your case.  Let's wait for everyone before going to step 3.<br><br>\n",
    "\n",
    "***"
   ]
  },
  {
   "cell_type": "markdown",
   "metadata": {},
   "source": [
    "## 3. Compiling the case\n",
    "\n",
    "CESM is written in a language called **Fortran**. Similar to English, Fortran is human readable. The computer doesn't understand Fortran. It needs to be translated in a computer-readable code (strings of 0s and 1s).   "
   ]
  },
  {
   "cell_type": "markdown",
   "metadata": {},
   "source": [
    "Here is an example of fortran code"
   ]
  },
  {
   "cell_type": "raw",
   "metadata": {
    "tags": []
   },
   "source": [
    " type physics_tend\n",
    "\n",
    "     integer   ::   psetcols=0 ! max number of columns set- if subcols = pcols*psubcols, else = pcols\n",
    "\n",
    "     real(r8), dimension(:,:),allocatable        :: dtdt, dudt, dvdt\n",
    "     real(r8), dimension(:),  allocatable        :: flx_net\n",
    "     real(r8), dimension(:),  allocatable        :: &\n",
    "          te_tnd,  &! cumulative boundary flux of total energy\n",
    "          tw_tnd    ! cumulative boundary flux of total water\n",
    "  end type physics_tend\n"
   ]
  },
  {
   "cell_type": "markdown",
   "metadata": {
    "tags": []
   },
   "source": [
    "**Exercise 3** \n",
    "\n",
    "Run the cell below. This compiles the case. Be aware that this can take a few minutes."
   ]
  },
  {
   "cell_type": "code",
   "execution_count": 5,
   "metadata": {
    "tags": []
   },
   "outputs": [
    {
     "name": "stdout",
     "output_type": "stream",
     "text": [
      "Building case in directory /home/hannay/cases/case3\n",
      "sharedlib_only is False\n",
      "model_only is False\n",
      "Setting resource.RLIMIT_STACK to -1 from (-1, -1)\n",
      "Generating component namelists as part of build\n",
      "Creating component namelists\n",
      "   Calling /opt/ncar/cesm/cime/../components/cam//cime_config/buildnml\n",
      "     ...calling cam buildcpp to set build time options\n",
      "CAM namelist copy: file1 /home/hannay/cases/case3/Buildconf/camconf/atm_in file2 /scratch/hannay/case3/run/atm_in \n",
      "   Calling /opt/ncar/cesm/cime/../components/clm//cime_config/buildnml\n",
      "   Calling /opt/ncar/cesm/cime/../components/cice//cime_config/buildnml\n",
      "     ...buildnml calling cice buildcpp to set build time options\n",
      "   Calling /opt/ncar/cesm/cime/../components/pop//cime_config/buildnml\n",
      "     ... buildnml: calling pop buildcpp to set build time options\n",
      "   Calling /opt/ncar/cesm/cime/../components/mosart//cime_config/buildnml\n",
      "   Running /opt/ncar/cesm/cime/../components/cism//cime_config/buildnml \n",
      "   Calling /opt/ncar/cesm/cime/../components/ww3//cime_config/buildnml\n",
      "   Calling /opt/ncar/cesm/cime/src/components/stub_comps/sesp/cime_config/buildnml\n",
      "   Calling /opt/ncar/cesm/cime/src/drivers/mct/cime_config/buildnml\n",
      "Finished creating component namelists\n",
      "Building gptl with output to file /scratch/hannay/case0/bld/gptl.bldlog.230802-175254\n",
      "   Calling /opt/ncar/cesm/cime/src/build_scripts/buildlib.gptl\n",
      "Building mct with output to file /scratch/hannay/case0/bld/mct.bldlog.230802-175254\n",
      "   Calling /opt/ncar/cesm/cime/src/build_scripts/buildlib.mct\n",
      "Building pio with output to file /scratch/hannay/case0/bld/pio.bldlog.230802-175254\n",
      "   Calling /opt/ncar/cesm/cime/src/build_scripts/buildlib.pio\n",
      "Building csm_share with output to file /scratch/hannay/case0/bld/csm_share.bldlog.230802-175254\n",
      "   Calling /opt/ncar/cesm/cime/src/build_scripts/buildlib.csm_share\n",
      "         - Building clm4_5/clm5_0 Library \n",
      "Building lnd with output to /scratch/hannay/case0/bld/lnd.bldlog.230802-175254\n",
      "clm built in 1.692070 seconds\n",
      "Building atm with output to /scratch/hannay/case0/bld/atm.bldlog.230802-175254\n",
      "Building ice with output to /scratch/hannay/case0/bld/ice.bldlog.230802-175254\n",
      "Building ocn with output to /scratch/hannay/case0/bld/ocn.bldlog.230802-175254\n",
      "Building rof with output to /scratch/hannay/case0/bld/rof.bldlog.230802-175254\n",
      "Building glc with output to /scratch/hannay/case0/bld/glc.bldlog.230802-175254\n",
      "Building wav with output to /scratch/hannay/case0/bld/wav.bldlog.230802-175254\n",
      "Building esp with output to /scratch/hannay/case0/bld/esp.bldlog.230802-175254\n",
      "mosart built in 1.729257 seconds\n",
      "cice built in 1.785322 seconds\n",
      "pop built in 2.354258 seconds\n",
      "sesp built in 3.093841 seconds\n",
      "cam built in 3.670891 seconds\n",
      "ww built in 4.911366 seconds\n",
      "cism built in 6.876282 seconds\n",
      "Building cesm with output to /scratch/hannay/case0/bld/cesm.bldlog.230802-175254 \n",
      "Time spent not building: 4.279103 sec\n",
      "Time spent building: 14.486984 sec\n",
      "MODEL BUILD HAS FINISHED SUCCESSFULLY\n"
     ]
    }
   ],
   "source": [
    "qcmd -- ./case.build "
   ]
  },
  {
   "cell_type": "markdown",
   "metadata": {
    "tags": []
   },
   "source": [
    "<br><br>\n",
    "Again, this will take a few minutes.  You'll know this is complete when you see the line:\n",
    "\n",
    ">&nbsp;MODEL BUILD HAS FINISHED SUCCESSFULLY\n",
    "\n",
    "If you see that, fantastic!  You've built your first CESM case!  Let's wait for everyone before going to step 4.<br><br>\n",
    "\n",
    "\n",
    "***"
   ]
  },
  {
   "cell_type": "markdown",
   "metadata": {},
   "source": [
    "## 4. Customizing a CESM case\n",
    "\n",
    "**Adding some butterfly effect** <img src=\"../../images/butterfly.png\" width=\"50\" height=\"50\">\n",
    "\n",
    "- If we submitted the simulation now, we would all get the same results.\n",
    "- Let’s add a small perturbation to the temperature (butterfly effect) \n",
    "<br>\n",
    "\n",
    "**Example of a small perturbation** "
   ]
  },
  {
   "cell_type": "raw",
   "metadata": {},
   "source": [
    "Temperature = 90F -> 90.0000000000001F"
   ]
  },
  {
   "cell_type": "markdown",
   "metadata": {
    "tags": []
   },
   "source": [
    "**Exercise 4** \n",
    "\n",
    "Run the cell below. This adds some butterfly effect (a small T temperature). <br>\n",
    "Each student adds a different butterfly effect. "
   ]
  },
  {
   "cell_type": "code",
   "execution_count": 6,
   "metadata": {},
   "outputs": [],
   "source": [
    "echo \"pertlim = 0e-13\" >> user_nl_cam"
   ]
  },
  {
   "cell_type": "markdown",
   "metadata": {
    "tags": []
   },
   "source": [
    "<br>\n",
    "Let's wait for everyone before going to step 5.<br><br>\n",
    "\n",
    "***"
   ]
  },
  {
   "cell_type": "markdown",
   "metadata": {},
   "source": [
    "## 5. Set the length of the run\n",
    "\n",
    "By default, cesm is set to produce 5-day simulations. Here, we modify the case to do a one-month simulation.\n",
    "<br>"
   ]
  },
  {
   "cell_type": "markdown",
   "metadata": {},
   "source": [
    "**Exercise 5** \n",
    "\n",
    "Run the following cell to change the length of the simulation to one month. "
   ]
  },
  {
   "cell_type": "code",
   "execution_count": 7,
   "metadata": {},
   "outputs": [],
   "source": [
    "./xmlchange STOP_OPTION=nmonths,STOP_N=1"
   ]
  },
  {
   "cell_type": "markdown",
   "metadata": {},
   "source": [
    "Run the following cell to check the length of the simulation was properly set"
   ]
  },
  {
   "cell_type": "code",
   "execution_count": 8,
   "metadata": {},
   "outputs": [
    {
     "name": "stdout",
     "output_type": "stream",
     "text": [
      "\n",
      "Results in group run_begin_stop_restart\n",
      "\tSTOP_OPTION: nmonths\n",
      "\tSTOP_N: 1\n"
     ]
    }
   ],
   "source": [
    "./xmlquery STOP_OPTION,STOP_N"
   ]
  },
  {
   "cell_type": "markdown",
   "metadata": {},
   "source": [
    "<br><br> If you see: \n",
    "> STOP_OPTION: nmonths <br>\n",
    "> STOP_N: 1 <br>\n",
    "\n",
    "Great!  You have set the case to run the model for one month.  Let's wait for everyone before going to step 6. \n",
    "<br><br>\n",
    "\n",
    "***"
   ]
  },
  {
   "cell_type": "markdown",
   "metadata": {
    "tags": []
   },
   "source": [
    "## 6. Running your case\n",
    "\n",
    "Running a case is also simple - we just issue the `case.submit` command.  This will start by checking that we have all of the necessary input data for our run, and downloading whatever is missing, and then it will perform the actual simulation - which we've configured to run for one month.\n"
   ]
  },
  {
   "cell_type": "markdown",
   "metadata": {},
   "source": [
    "**Exercise 6** \n",
    "\n",
    "Submit your simulation. "
   ]
  },
  {
   "cell_type": "code",
   "execution_count": null,
   "metadata": {
    "tags": []
   },
   "outputs": [],
   "source": [
    "./case.submit"
   ]
  },
  {
   "cell_type": "markdown",
   "metadata": {},
   "source": [
    "**Check the job is running** \n",
    "\n",
    "When you submit a simulation, it will be waiting in the computer until there is enough computer resources. <br> The command `squeue` allows you to make sure your simulation is in the queue or running."
   ]
  },
  {
   "cell_type": "code",
   "execution_count": null,
   "metadata": {
    "tags": []
   },
   "outputs": [],
   "source": [
    "squeue -u $USER"
   ]
  },
  {
   "cell_type": "markdown",
   "metadata": {},
   "source": [
    "<br><br>When this step finishes, the run will complete, then the 'archive' script will execute.  You will see a few warning messages about 'No such variable' - these are normal, and can be ignored.  The final lines should look like:\n",
    "\n",
    ">Submitted job case.run with id None<br>\n",
    "Submitted job case.st_archive with id None\n",
    "\n",
    "\n",
    "If you see those, congratulations!  You've run your first case -- there's a *lot* of text shown above, and we'll cover it in more detail in another tutorial, and more information can also be found in the [documentation](https://escomp.github.io/CESM/versions/cesm2.2/html/quickstart.html#run-the-case).<br><br>\n",
    "\n",
    "***"
   ]
  },
  {
   "cell_type": "code",
   "execution_count": null,
   "metadata": {},
   "outputs": [],
   "source": []
  }
 ],
 "metadata": {
  "kernelspec": {
   "display_name": "Bash",
   "language": "bash",
   "name": "bash"
  },
  "language_info": {
   "codemirror_mode": "shell",
   "file_extension": ".sh",
   "mimetype": "text/x-sh",
   "name": "bash"
  }
 },
 "nbformat": 4,
 "nbformat_minor": 4
}
